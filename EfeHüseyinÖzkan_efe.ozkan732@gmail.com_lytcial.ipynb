{
  "cells": [
    {
      "cell_type": "code",
      "execution_count": 1,
      "id": "98144cd0",
      "metadata": {
        "_cell_guid": "b1076dfc-b9ad-4769-8c92-a6c4dae69d19",
        "_uuid": "8f2839f25d086af736a60e9eeb907d3b93b6e0e5",
        "execution": {
          "iopub.execute_input": "2023-11-07T13:33:07.924924Z",
          "iopub.status.busy": "2023-11-07T13:33:07.924640Z",
          "iopub.status.idle": "2023-11-07T13:33:17.046136Z",
          "shell.execute_reply": "2023-11-07T13:33:17.045336Z"
        },
        "id": "98144cd0",
        "papermill": {
          "duration": 9.131585,
          "end_time": "2023-11-07T13:33:17.048429",
          "exception": false,
          "start_time": "2023-11-07T13:33:07.916844",
          "status": "completed"
        },
        "tags": []
      },
      "outputs": [],
      "source": [
        "import numpy as np\n",
        "import pandas as pd\n",
        "import matplotlib.pyplot as plt\n",
        "\n",
        "from sklearn.preprocessing import LabelEncoder\n",
        "from sklearn.model_selection import train_test_split\n",
        "\n",
        "import cv2\n",
        "import tensorflow as tf\n",
        "\n",
        "from tensorflow.keras.models import Sequential\n",
        "from tensorflow.keras.layers import Conv2D, MaxPooling2D, Flatten, Dense, Dropout\n",
        "\n",
        "import warnings\n",
        "warnings.filterwarnings('ignore')\n",
        "AUTO = tf.data.experimental.AUTOTUNE"
      ]
    },
    {
      "cell_type": "code",
      "execution_count": 2,
      "id": "295e3186",
      "metadata": {
        "colab": {
          "base_uri": "https://localhost:8080/",
          "height": 206
        },
        "execution": {
          "iopub.execute_input": "2023-11-07T13:33:17.063325Z",
          "iopub.status.busy": "2023-11-07T13:33:17.062755Z",
          "iopub.status.idle": "2023-11-07T13:33:17.105904Z",
          "shell.execute_reply": "2023-11-07T13:33:17.105011Z"
        },
        "id": "295e3186",
        "outputId": "d45792d3-54e4-40c4-a51f-4db020b7c737",
        "papermill": {
          "duration": 0.052823,
          "end_time": "2023-11-07T13:33:17.108072",
          "exception": false,
          "start_time": "2023-11-07T13:33:17.055249",
          "status": "completed"
        },
        "tags": []
      },
      "outputs": [
        {
          "data": {
            "text/plain": [
              "(1000, 2)"
            ]
          },
          "execution_count": 2,
          "metadata": {},
          "output_type": "execute_result"
        }
      ],
      "source": [
        "df = pd.read_csv('labels.csv') #Read csv file.\n",
        "df = df.head(1000)\n",
        "df.shape"
      ]
    },
    {
      "cell_type": "code",
      "execution_count": 3,
      "id": "9eed18f7",
      "metadata": {
        "colab": {
          "base_uri": "https://localhost:8080/"
        },
        "execution": {
          "iopub.execute_input": "2023-11-07T13:33:17.145449Z",
          "iopub.status.busy": "2023-11-07T13:33:17.145179Z",
          "iopub.status.idle": "2023-11-07T13:33:17.153775Z",
          "shell.execute_reply": "2023-11-07T13:33:17.152985Z"
        },
        "id": "9eed18f7",
        "outputId": "30f1de62-b8f2-4ea5-98e2-b2d6e9bd9a70",
        "papermill": {
          "duration": 0.018119,
          "end_time": "2023-11-07T13:33:17.155729",
          "exception": false,
          "start_time": "2023-11-07T13:33:17.137610",
          "status": "completed"
        },
        "tags": []
      },
      "outputs": [],
      "source": [
        "df['breed'].nunique()\n",
        "df['filepath'] = 'train/' + df['id'] + '.jpg' #Read jpgs from folder."
      ]
    },
    {
      "cell_type": "code",
      "execution_count": 4,
      "id": "966cb6a8",
      "metadata": {
        "colab": {
          "base_uri": "https://localhost:8080/",
          "height": 206
        },
        "execution": {
          "iopub.execute_input": "2023-11-07T13:33:19.187498Z",
          "iopub.status.busy": "2023-11-07T13:33:19.186710Z",
          "iopub.status.idle": "2023-11-07T13:33:19.208985Z",
          "shell.execute_reply": "2023-11-07T13:33:19.203241Z"
        },
        "id": "966cb6a8",
        "outputId": "f8a01d25-df6e-4b36-c0f5-4d7ad8ec365c",
        "papermill": {
          "duration": 0.04706,
          "end_time": "2023-11-07T13:33:19.213863",
          "exception": false,
          "start_time": "2023-11-07T13:33:19.166803",
          "status": "completed"
        },
        "tags": []
      },
      "outputs": [
        {
          "data": {
            "text/html": [
              "<div>\n",
              "<style scoped>\n",
              "    .dataframe tbody tr th:only-of-type {\n",
              "        vertical-align: middle;\n",
              "    }\n",
              "\n",
              "    .dataframe tbody tr th {\n",
              "        vertical-align: top;\n",
              "    }\n",
              "\n",
              "    .dataframe thead th {\n",
              "        text-align: right;\n",
              "    }\n",
              "</style>\n",
              "<table border=\"1\" class=\"dataframe\">\n",
              "  <thead>\n",
              "    <tr style=\"text-align: right;\">\n",
              "      <th></th>\n",
              "      <th>id</th>\n",
              "      <th>breed</th>\n",
              "      <th>filepath</th>\n",
              "    </tr>\n",
              "  </thead>\n",
              "  <tbody>\n",
              "    <tr>\n",
              "      <th>0</th>\n",
              "      <td>000bec180eb18c7604dcecc8fe0dba07</td>\n",
              "      <td>19</td>\n",
              "      <td>train/000bec180eb18c7604dcecc8fe0dba07.jpg</td>\n",
              "    </tr>\n",
              "    <tr>\n",
              "      <th>1</th>\n",
              "      <td>001513dfcb2ffafc82cccf4d8bbaba97</td>\n",
              "      <td>37</td>\n",
              "      <td>train/001513dfcb2ffafc82cccf4d8bbaba97.jpg</td>\n",
              "    </tr>\n",
              "    <tr>\n",
              "      <th>2</th>\n",
              "      <td>001cdf01b096e06d78e9e5112d419397</td>\n",
              "      <td>85</td>\n",
              "      <td>train/001cdf01b096e06d78e9e5112d419397.jpg</td>\n",
              "    </tr>\n",
              "    <tr>\n",
              "      <th>3</th>\n",
              "      <td>00214f311d5d2247d5dfe4fe24b2303d</td>\n",
              "      <td>15</td>\n",
              "      <td>train/00214f311d5d2247d5dfe4fe24b2303d.jpg</td>\n",
              "    </tr>\n",
              "    <tr>\n",
              "      <th>4</th>\n",
              "      <td>0021f9ceb3235effd7fcde7f7538ed62</td>\n",
              "      <td>49</td>\n",
              "      <td>train/0021f9ceb3235effd7fcde7f7538ed62.jpg</td>\n",
              "    </tr>\n",
              "  </tbody>\n",
              "</table>\n",
              "</div>"
            ],
            "text/plain": [
              "                                 id  breed  \\\n",
              "0  000bec180eb18c7604dcecc8fe0dba07     19   \n",
              "1  001513dfcb2ffafc82cccf4d8bbaba97     37   \n",
              "2  001cdf01b096e06d78e9e5112d419397     85   \n",
              "3  00214f311d5d2247d5dfe4fe24b2303d     15   \n",
              "4  0021f9ceb3235effd7fcde7f7538ed62     49   \n",
              "\n",
              "                                     filepath  \n",
              "0  train/000bec180eb18c7604dcecc8fe0dba07.jpg  \n",
              "1  train/001513dfcb2ffafc82cccf4d8bbaba97.jpg  \n",
              "2  train/001cdf01b096e06d78e9e5112d419397.jpg  \n",
              "3  train/00214f311d5d2247d5dfe4fe24b2303d.jpg  \n",
              "4  train/0021f9ceb3235effd7fcde7f7538ed62.jpg  "
            ]
          },
          "execution_count": 4,
          "metadata": {},
          "output_type": "execute_result"
        }
      ],
      "source": [
        "le = LabelEncoder()\n",
        "df['breed'] = le.fit_transform(df['breed'])\n",
        "df.head()"
      ]
    },
    {
      "cell_type": "code",
      "execution_count": 5,
      "id": "45ef0fed",
      "metadata": {
        "colab": {
          "base_uri": "https://localhost:8080/"
        },
        "execution": {
          "iopub.execute_input": "2023-11-07T13:33:19.249276Z",
          "iopub.status.busy": "2023-11-07T13:33:19.248992Z",
          "iopub.status.idle": "2023-11-07T13:33:19.258496Z",
          "shell.execute_reply": "2023-11-07T13:33:19.257645Z"
        },
        "id": "45ef0fed",
        "outputId": "01101373-6cd4-46bd-d0a1-1fb09b8c9871",
        "papermill": {
          "duration": 0.029566,
          "end_time": "2023-11-07T13:33:19.260512",
          "exception": false,
          "start_time": "2023-11-07T13:33:19.230946",
          "status": "completed"
        },
        "tags": []
      },
      "outputs": [
        {
          "data": {
            "text/plain": [
              "((800,), (200,))"
            ]
          },
          "execution_count": 5,
          "metadata": {},
          "output_type": "execute_result"
        }
      ],
      "source": [
        "features = df['filepath']\n",
        "target = df['breed']\n",
        "\n",
        "X_train, X_val, Y_train, Y_val= train_test_split(features, target, test_size=0.2, random_state=42) #Splitting data.\n",
        "\n",
        "X_train.shape, X_val.shape #Shaping X."
      ]
    },
    {
      "cell_type": "code",
      "execution_count": 6,
      "id": "8v0Zdz359NuB",
      "metadata": {
        "id": "8v0Zdz359NuB"
      },
      "outputs": [],
      "source": [
        "X_train_data = []\n",
        "for file_path in X_train:\n",
        "    img = cv2.imread(file_path)\n",
        "    img = cv2.resize(img, (224, 224))  # Adjust the size based on your model requirements.\n",
        "    X_train_data.append(img)\n",
        "\n",
        "X_train = np.array(X_train_data)\n",
        "Y_train = np.array(Y_train)"
      ]
    },
    {
      "cell_type": "code",
      "execution_count": 7,
      "id": "f5VBrw2I-Hz4",
      "metadata": {
        "id": "f5VBrw2I-Hz4"
      },
      "outputs": [],
      "source": [
        "X_val_data = []\n",
        "for file_path in X_val:\n",
        "    img = cv2.imread(file_path)\n",
        "    img = cv2.resize(img, (224, 224))  # Adjust the size based on your model requirements.\n",
        "    X_val_data.append(img)\n",
        "\n",
        "X_val = np.array(X_val_data)\n",
        "Y_val = np.array(Y_val)"
      ]
    },
    {
      "cell_type": "code",
      "execution_count": 8,
      "id": "89LBhW3u-LqM",
      "metadata": {
        "id": "89LBhW3u-LqM"
      },
      "outputs": [],
      "source": [
        "# Normalize pixel values\n",
        "X_train = X_train / 255.0\n",
        "X_val = X_val / 255.0"
      ]
    },
    {
      "cell_type": "code",
      "execution_count": 9,
      "id": "jt2AbXq2-2d2",
      "metadata": {
        "id": "jt2AbXq2-2d2"
      },
      "outputs": [],
      "source": [
        "# Define the function to create the model\n",
        "def create_model(optimizer='adam', batch_size=32, epochs=10):\n",
        "    model = Sequential()\n",
        "    model.add(Conv2D(32, (3, 3), input_shape=(224, 224, 3), activation='relu'))\n",
        "    model.add(MaxPooling2D(pool_size=(2, 2)))\n",
        "    model.add(Conv2D(64, (3, 3), activation='relu'))\n",
        "    model.add(MaxPooling2D(pool_size=(2, 2)))\n",
        "    model.add(Conv2D(128, (3, 3), activation='relu'))\n",
        "    model.add(MaxPooling2D(pool_size=(2, 2)))\n",
        "    model.add(Flatten())\n",
        "    model.add(Dense(512, activation='relu'))\n",
        "    model.add(Dropout(0.5))\n",
        "    model.add(Dense(256, activation='relu'))\n",
        "    model.add(Dropout(0.5))\n",
        "    model.add(Dense(len(np.unique(Y_train)), activation='softmax'))\n",
        "    \n",
        "    model.compile(optimizer=optimizer, loss='sparse_categorical_crossentropy', metrics=['accuracy'])\n",
        "    \n",
        "    return model"
      ]
    },
    {
      "cell_type": "code",
      "execution_count": 10,
      "id": "tE2fqoC6-8wH",
      "metadata": {
        "id": "tE2fqoC6-8wH"
      },
      "outputs": [
        {
          "name": "stdout",
          "output_type": "stream",
          "text": [
            "Model: \"sequential\"\n",
            "_________________________________________________________________\n",
            " Layer (type)                Output Shape              Param #   \n",
            "=================================================================\n",
            " conv2d (Conv2D)             (None, 222, 222, 32)      896       \n",
            "                                                                 \n",
            " max_pooling2d (MaxPooling2D  (None, 111, 111, 32)     0         \n",
            " )                                                               \n",
            "                                                                 \n",
            " conv2d_1 (Conv2D)           (None, 109, 109, 64)      18496     \n",
            "                                                                 \n",
            " max_pooling2d_1 (MaxPooling  (None, 54, 54, 64)       0         \n",
            " 2D)                                                             \n",
            "                                                                 \n",
            " conv2d_2 (Conv2D)           (None, 52, 52, 128)       73856     \n",
            "                                                                 \n",
            " max_pooling2d_2 (MaxPooling  (None, 26, 26, 128)      0         \n",
            " 2D)                                                             \n",
            "                                                                 \n",
            " flatten (Flatten)           (None, 86528)             0         \n",
            "                                                                 \n",
            " dense (Dense)               (None, 512)               44302848  \n",
            "                                                                 \n",
            " dropout (Dropout)           (None, 512)               0         \n",
            "                                                                 \n",
            " dense_1 (Dense)             (None, 256)               131328    \n",
            "                                                                 \n",
            " dropout_1 (Dropout)         (None, 256)               0         \n",
            "                                                                 \n",
            " dense_2 (Dense)             (None, 120)               30840     \n",
            "                                                                 \n",
            "=================================================================\n",
            "Total params: 44,558,264\n",
            "Trainable params: 44,558,264\n",
            "Non-trainable params: 0\n",
            "_________________________________________________________________\n",
            "Epoch 1/25\n",
            "25/25 [==============================] - 13s 206ms/step - loss: 4.9966 - accuracy: 0.0050 - val_loss: 4.7931 - val_accuracy: 0.0000e+00\n",
            "Epoch 2/25\n",
            "25/25 [==============================] - 3s 110ms/step - loss: 4.7760 - accuracy: 0.0113 - val_loss: 4.7915 - val_accuracy: 0.0000e+00\n",
            "Epoch 3/25\n",
            "25/25 [==============================] - 3s 105ms/step - loss: 4.7664 - accuracy: 0.0137 - val_loss: 4.8339 - val_accuracy: 0.0050\n",
            "Epoch 4/25\n",
            "25/25 [==============================] - 3s 107ms/step - loss: 4.7591 - accuracy: 0.0088 - val_loss: 4.8114 - val_accuracy: 0.0000e+00\n",
            "Epoch 5/25\n",
            "25/25 [==============================] - 3s 106ms/step - loss: 4.7549 - accuracy: 0.0225 - val_loss: 4.7976 - val_accuracy: 0.0050\n",
            "Epoch 6/25\n",
            "25/25 [==============================] - 3s 105ms/step - loss: 4.7306 - accuracy: 0.0125 - val_loss: 4.8912 - val_accuracy: 0.0000e+00\n",
            "Epoch 7/25\n",
            "25/25 [==============================] - 3s 105ms/step - loss: 4.7392 - accuracy: 0.0075 - val_loss: 4.8122 - val_accuracy: 0.0000e+00\n",
            "Epoch 8/25\n",
            "25/25 [==============================] - 3s 105ms/step - loss: 4.6820 - accuracy: 0.0137 - val_loss: 4.8190 - val_accuracy: 0.0000e+00\n",
            "Epoch 9/25\n",
            "25/25 [==============================] - 3s 104ms/step - loss: 4.5524 - accuracy: 0.0463 - val_loss: 4.9178 - val_accuracy: 0.0000e+00\n",
            "Epoch 10/25\n",
            "25/25 [==============================] - 3s 104ms/step - loss: 4.3181 - accuracy: 0.0838 - val_loss: 4.9076 - val_accuracy: 0.0050\n",
            "Epoch 11/25\n",
            "25/25 [==============================] - 3s 106ms/step - loss: 3.8814 - accuracy: 0.1412 - val_loss: 5.0453 - val_accuracy: 0.0000e+00\n",
            "Epoch 12/25\n",
            "25/25 [==============================] - 3s 106ms/step - loss: 3.2941 - accuracy: 0.2637 - val_loss: 5.2210 - val_accuracy: 0.0150\n",
            "Epoch 13/25\n",
            "25/25 [==============================] - 3s 107ms/step - loss: 2.7774 - accuracy: 0.3600 - val_loss: 5.4214 - val_accuracy: 0.0100\n",
            "Epoch 14/25\n",
            "25/25 [==============================] - 3s 108ms/step - loss: 2.2596 - accuracy: 0.4750 - val_loss: 5.6711 - val_accuracy: 0.0100\n",
            "Epoch 15/25\n",
            "25/25 [==============================] - 3s 106ms/step - loss: 1.7686 - accuracy: 0.5950 - val_loss: 5.8144 - val_accuracy: 0.0000e+00\n",
            "Epoch 16/25\n",
            "25/25 [==============================] - 3s 105ms/step - loss: 1.6794 - accuracy: 0.6125 - val_loss: 5.8131 - val_accuracy: 0.0000e+00\n",
            "Epoch 17/25\n",
            "25/25 [==============================] - 3s 109ms/step - loss: 1.3723 - accuracy: 0.7013 - val_loss: 5.6950 - val_accuracy: 0.0150\n",
            "Epoch 18/25\n",
            "25/25 [==============================] - 3s 109ms/step - loss: 1.2334 - accuracy: 0.7312 - val_loss: 6.1632 - val_accuracy: 0.0200\n",
            "Epoch 19/25\n",
            "25/25 [==============================] - 3s 107ms/step - loss: 1.1215 - accuracy: 0.7350 - val_loss: 6.0804 - val_accuracy: 0.0100\n",
            "Epoch 20/25\n",
            "25/25 [==============================] - 3s 110ms/step - loss: 0.8559 - accuracy: 0.7950 - val_loss: 5.8562 - val_accuracy: 0.0100\n",
            "Epoch 21/25\n",
            "25/25 [==============================] - 3s 109ms/step - loss: 0.7222 - accuracy: 0.8300 - val_loss: 6.0032 - val_accuracy: 0.0100\n",
            "Epoch 22/25\n",
            "25/25 [==============================] - 3s 110ms/step - loss: 0.7078 - accuracy: 0.8400 - val_loss: 6.3145 - val_accuracy: 0.0200\n",
            "Epoch 23/25\n",
            "25/25 [==============================] - 3s 106ms/step - loss: 0.5831 - accuracy: 0.8675 - val_loss: 6.2058 - val_accuracy: 0.0100\n",
            "Epoch 24/25\n",
            "25/25 [==============================] - 3s 105ms/step - loss: 0.5768 - accuracy: 0.8662 - val_loss: 6.2753 - val_accuracy: 0.0050\n",
            "Epoch 25/25\n",
            "25/25 [==============================] - 3s 104ms/step - loss: 0.5849 - accuracy: 0.8775 - val_loss: 6.2640 - val_accuracy: 0.0050\n"
          ]
        }
      ],
      "source": [
        "model = create_model()\n",
        "\n",
        "# Print model summary\n",
        "model.summary()\n",
        "\n",
        "with tf.device('/device:GPU:0'):\n",
        "    history = model.fit(X_train, Y_train, validation_data=(X_val, Y_val), epochs=25, batch_size=32) #Adjusting hyper-parameters.\n"
      ]
    },
    {
      "cell_type": "code",
      "execution_count": 11,
      "id": "1h20uITB_EpC",
      "metadata": {
        "id": "1h20uITB_EpC"
      },
      "outputs": [
        {
          "data": {
            "image/png": "[encoded data removed]",
            "text/plain": [
              "<Figure size 1200x600 with 2 Axes>"
            ]
          },
          "metadata": {},
          "output_type": "display_data"
        }
      ],
      "source": [
        "# Plot training history\n",
        "plt.figure(figsize=(12, 6))\n",
        "\n",
        "# Accuracy\n",
        "plt.subplot(1, 2, 1)\n",
        "plt.plot(history.history['accuracy'], label='Training Accuracy')\n",
        "plt.plot(history.history['val_accuracy'], label='Validation Accuracy')\n",
        "plt.xlabel('Epochs')\n",
        "plt.ylabel('Accuracy')\n",
        "plt.legend()\n",
        "\n",
        "# Loss\n",
        "plt.subplot(1, 2, 2)\n",
        "plt.plot(history.history['loss'], label='Training Loss')\n",
        "plt.plot(history.history['val_loss'], label='Validation Loss')\n",
        "plt.xlabel('Epochs')\n",
        "plt.ylabel('Loss')\n",
        "plt.legend()\n",
        "\n",
        "plt.show()"
      ]
    },
    {
      "cell_type": "code",
      "execution_count": 22,
      "metadata": {},
      "outputs": [
        {
          "name": "stdout",
          "output_type": "stream",
          "text": [
            "Training Accuracy with Optimized Parameters: 0.8774999976158142\n",
            "Validation Accuracy with Optimized Parameters: 0.019999999552965164\n"
          ]
        }
      ],
      "source": [
        "#Printing results.\n",
        "print(\"Training Accuracy with Optimized Parameters:\", max(history.history['accuracy'] * 100))\n",
        "print(\"Validation Accuracy with Optimized Parameters:\", max(history.history['val_accuracy'] * 100))\n",
        "\n",
        "#Note: More epochs will be better for the model."
      ]
    }
  ],
  "metadata": {
    "colab": {
      "provenance": []
    },
    "kernelspec": {
      "display_name": "Python 3",
      "language": "python",
      "name": "python3"
    },
    "language_info": {
      "codemirror_mode": {
        "name": "ipython",
        "version": 3
      },
      "file_extension": ".py",
      "mimetype": "text/x-python",
      "name": "python",
      "nbconvert_exporter": "python",
      "pygments_lexer": "ipython3",
      "version": "3.10.13"
    },
    "papermill": {
      "default_parameters": {},
      "duration": 141.733861,
      "end_time": "2023-11-07T13:35:19.748990",
      "environment_variables": {},
      "exception": null,
      "input_path": "__notebook__.ipynb",
      "output_path": "__notebook__.ipynb",
      "parameters": {},
      "start_time": "2023-11-07T13:32:58.015129",
      "version": "2.4.0"
    }
  },
  "nbformat": 4,
  "nbformat_minor": 5
}
